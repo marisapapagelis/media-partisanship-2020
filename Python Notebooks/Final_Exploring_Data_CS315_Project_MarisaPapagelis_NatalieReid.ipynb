{
 "cells": [
  {
   "cell_type": "markdown",
   "metadata": {},
   "source": [
    "# CS 315 Project Data Exploration"
   ]
  },
  {
   "cell_type": "markdown",
   "metadata": {},
   "source": [
    "## Marisa Papagelis and Natalie Reid"
   ]
  },
  {
   "cell_type": "markdown",
   "metadata": {},
   "source": [
    "In this notebook, we will explore data for our project. At the most basic level, we are scraping Facebook pages for post content (text, likes, and comments). Additional information will be added to this section as our project progresses.\n",
    "\n",
    "We will compliment this notebook with Collecting_Data_CS315_Project_MarisaPapagelis_NatalieReid, a notebook for our data collection. All data we explore will be pulled from that notebook."
   ]
  },
  {
   "cell_type": "markdown",
   "metadata": {},
   "source": [
    "# Section A: Getting to Know the Data "
   ]
  },
  {
   "cell_type": "markdown",
   "metadata": {},
   "source": [
    "In Section A, we will subset collect a subset of our data and run various data exploration and data summarizing representations on it. The main goal of this section is to prepare for the final data exploaration and analysis by figuring out how much data we need and how we would like to analyze it. "
   ]
  },
  {
   "cell_type": "markdown",
   "metadata": {},
   "source": [
    "## Part I: Sample Exploration: Measuring Frequency of Keywords"
   ]
  },
  {
   "cell_type": "markdown",
   "metadata": {},
   "source": [
    "For our data exploration, we randomly selected 175 Facebook posts from each news source page in our data set (300 posts total). We read through the text in these posts and recorded how many posts our chosen keywords appeared in to get an idea of whether or not our data collection methods and keywords were feasible.\n",
    "\n",
    "To do this, we are going to create dictionaries of our keywords for each page, and we will loop through the post texts of our 175 posts for each page recording the number of posts each keyword appears in. This will help us determine whether whether or not our data collection methods and keywords were feasible. "
   ]
  },
  {
   "cell_type": "code",
   "execution_count": 1,
   "metadata": {},
   "outputs": [],
   "source": [
    "import json\n",
    "import os"
   ]
  },
  {
   "cell_type": "markdown",
   "metadata": {},
   "source": [
    "First, we load our collected data for all three news sources and assign appropriate names to each JSON file.\n",
    "\n",
    "**In order to replicate our process on a personal computer, the file path for *all* JSON loads may need to be altered. For easiest access, move the 'PM6_MarisaPapagelis_NatalieReid' folder, containing all of our work, to your desktop, and the given file paths should work**"
   ]
  },
  {
   "cell_type": "code",
   "execution_count": 2,
   "metadata": {},
   "outputs": [
    {
     "data": {
      "text/plain": [
       "'/Users/marisapapagelis/Desktop/PM6_MarisaPapagelis_NatalieReid/Python Notebooks'"
      ]
     },
     "execution_count": 2,
     "metadata": {},
     "output_type": "execute_result"
    }
   ],
   "source": [
    "os. getcwd() \n",
    "#current working directory should say '/Users/**your user**/Desktop/PM6_Marisa_Papagelis_NatalieReid/Python Notebooks'"
   ]
  },
  {
   "cell_type": "code",
   "execution_count": 3,
   "metadata": {},
   "outputs": [],
   "source": [
    "os.chdir('../') #back out of 'Python Notebooks' folder"
   ]
  },
  {
   "cell_type": "code",
   "execution_count": 4,
   "metadata": {},
   "outputs": [],
   "source": [
    "with open ('JSON files/reuters-posts.json','r') as infile:\n",
    "    reuters = json.load(infile) "
   ]
  },
  {
   "cell_type": "code",
   "execution_count": 5,
   "metadata": {},
   "outputs": [],
   "source": [
    "with open ('JSON files/MSNBC-posts.json','r') as infile:\n",
    "    MSNBC = json.load(infile)"
   ]
  },
  {
   "cell_type": "code",
   "execution_count": 6,
   "metadata": {},
   "outputs": [],
   "source": [
    "with open ('JSON files/FoxNews-posts.json','r') as infile:\n",
    "    foxNews = json.load(infile)"
   ]
  },
  {
   "cell_type": "markdown",
   "metadata": {},
   "source": [
    "Next, we subset our data to the first 175 posts on each news source page for our sample exploration. "
   ]
  },
  {
   "cell_type": "code",
   "execution_count": 7,
   "metadata": {},
   "outputs": [],
   "source": [
    "reuters = reuters[0:174]\n",
    "MSNBC = MSNBC[0:174]\n",
    "foxNews = foxNews[0:174]"
   ]
  },
  {
   "cell_type": "markdown",
   "metadata": {},
   "source": [
    "In order to iterate through the 175 posts on each news source Facebook page, we will use dictionaries. Below, we will create a dictionary for each news page. We will set all of the values to 0 to begin."
   ]
  },
  {
   "cell_type": "code",
   "execution_count": 8,
   "metadata": {},
   "outputs": [],
   "source": [
    "reutersDict = {'economy' : 0,'healthcare' : 0, 'supreme court' : 0, 'coronavirus' : 0, 'crime' : 0, 'foreign policy' : 0, 'guns' : 0, 'race' : 0, 'immigration' : 0, 'inequality' : 0, 'climate change' : 0, 'abortion' : 0}\n",
    "MSNBCDict = {'economy' : 0,'healthcare' : 0, 'supreme court' : 0, 'coronavirus' : 0, 'crime' : 0, 'foreign policy' : 0, 'guns' : 0, 'race' : 0, 'immigration' : 0, 'inequality' : 0, 'climate change' : 0, 'abortion' : 0}\n",
    "foxNewsDict = {'economy' : 0,'healthcare' : 0, 'supreme court' : 0, 'coronavirus' : 0, 'crime' : 0, 'foreign policy' : 0, 'guns' : 0, 'race' : 0, 'immigration' : 0, 'inequality' : 0, 'climate change' : 0, 'abortion' : 0}"
   ]
  },
  {
   "cell_type": "markdown",
   "metadata": {},
   "source": [
    "In order to collect data, for each news source page we will loop through the text of each post for the predetermined keywords using the dictionaries to keep count. The hasNoText function checks to see if a given post has no text in the body, which gets stored in our dictionary as 'NaN'. The post!=post notation returns true if it has no text, false if otherwise. This function is then incorporated into the countKeywords function because we only want to examine a post for keywords if it actually contains any text. If not, we skip that post and move on to the next one."
   ]
  },
  {
   "cell_type": "code",
   "execution_count": 9,
   "metadata": {},
   "outputs": [],
   "source": [
    "# remove any posts that do not have text\n",
    "def hasNoText(post):\n",
    "    return post != post\n",
    "\n",
    "# count the frequency of keywords from a site's dictionary of posts\n",
    "def countKeywords(site, siteDict):\n",
    "    for post in site:\n",
    "        for key in siteDict:\n",
    "            if hasNoText(post[0]) == False:\n",
    "                if key in post[0].lower():\n",
    "                    siteDict[key] += 1"
   ]
  },
  {
   "cell_type": "markdown",
   "metadata": {},
   "source": [
    "Now we run our countKeywords function for each news page we previously scraped. Posts without any text are ignored, in order to avoid errors with the .lower() function. This is a great example of the 'language processing'/'text cleaning' portion of our project. "
   ]
  },
  {
   "cell_type": "code",
   "execution_count": 10,
   "metadata": {},
   "outputs": [],
   "source": [
    "countKeywords(reuters, reutersDict)\n",
    "countKeywords(MSNBC, MSNBCDict)\n",
    "countKeywords(foxNews, foxNewsDict)"
   ]
  },
  {
   "cell_type": "markdown",
   "metadata": {},
   "source": [
    "Finally, we record results from our dictionaries. An example dictionary result for Reuters is printed below. "
   ]
  },
  {
   "cell_type": "code",
   "execution_count": 11,
   "metadata": {},
   "outputs": [
    {
     "name": "stdout",
     "output_type": "stream",
     "text": [
      "{'economy': 6, 'healthcare': 0, 'supreme court': 3, 'coronavirus': 32, 'crime': 0, 'foreign policy': 0, 'guns': 0, 'race': 5, 'immigration': 0, 'inequality': 0, 'climate change': 1, 'abortion': 0}\n",
      "{'economy': 1, 'healthcare': 0, 'supreme court': 9, 'coronavirus': 32, 'crime': 0, 'foreign policy': 0, 'guns': 0, 'race': 5, 'immigration': 0, 'inequality': 0, 'climate change': 0, 'abortion': 0}\n",
      "{'economy': 1, 'healthcare': 0, 'supreme court': 11, 'coronavirus': 67, 'crime': 0, 'foreign policy': 0, 'guns': 0, 'race': 1, 'immigration': 0, 'inequality': 0, 'climate change': 0, 'abortion': 0}\n"
     ]
    }
   ],
   "source": [
    "print(reutersDict)\n",
    "print(MSNBCDict)\n",
    "print(foxNewsDict)"
   ]
  },
  {
   "cell_type": "markdown",
   "metadata": {},
   "source": [
    "Concluding this sample exploration, we think it would be helpful to add more keywords to our dictionary. We will continue our exploration with this in the next part. "
   ]
  },
  {
   "cell_type": "markdown",
   "metadata": {},
   "source": [
    "## Part II: Follow Up Sample Exploration: Adding Relevant Keywords"
   ]
  },
  {
   "cell_type": "markdown",
   "metadata": {},
   "source": [
    "After reviewing our initial data exploration, we also decided to add five more keywords that we saw in the headlines often: “police”, “government”, “covid”, “president”, and “congress.” We wanted to add these so that our search reflects as many relevant issues as possible. \n",
    "\n",
    "We have to remember to set our original dictionaries back to zero before running the code on them again. "
   ]
  },
  {
   "cell_type": "code",
   "execution_count": 12,
   "metadata": {},
   "outputs": [],
   "source": [
    "reutersDict = {'economy' : 0,'healthcare' : 0, 'supreme court' : 0, 'coronavirus' : 0, 'crime' : 0, 'foreign policy' : 0, 'guns' : 0, 'race' : 0, 'immigration' : 0, 'inequality' : 0, 'climate change' : 0, 'abortion' : 0}\n",
    "MSNBCDict = {'economy' : 0,'healthcare' : 0, 'supreme court' : 0, 'coronavirus' : 0, 'crime' : 0, 'foreign policy' : 0, 'guns' : 0, 'race' : 0, 'immigration' : 0, 'inequality' : 0, 'climate change' : 0, 'abortion' : 0}\n",
    "foxNewsDict = {'economy' : 0,'healthcare' : 0, 'supreme court' : 0, 'coronavirus' : 0, 'crime' : 0, 'foreign policy' : 0, 'guns' : 0, 'race' : 0, 'immigration' : 0, 'inequality' : 0, 'climate change' : 0, 'abortion' : 0}"
   ]
  },
  {
   "cell_type": "markdown",
   "metadata": {},
   "source": [
    "Below, we our new keywords to each dictionary. We also set them to 0."
   ]
  },
  {
   "cell_type": "code",
   "execution_count": 13,
   "metadata": {},
   "outputs": [],
   "source": [
    "reutersDict['police'] = 0\n",
    "reutersDict['government'] = 0\n",
    "reutersDict['covid'] = 0\n",
    "reutersDict['president'] = 0\n",
    "reutersDict['congress'] = 0\n",
    "\n",
    "MSNBCDict['police'] = 0\n",
    "MSNBCDict['government'] = 0\n",
    "MSNBCDict['covid'] = 0\n",
    "MSNBCDict['president'] = 0\n",
    "MSNBCDict['congress'] = 0\n",
    "\n",
    "foxNewsDict['police'] = 0\n",
    "foxNewsDict['government'] = 0\n",
    "foxNewsDict['covid'] = 0\n",
    "foxNewsDict['president'] = 0\n",
    "foxNewsDict['congress'] = 0"
   ]
  },
  {
   "cell_type": "markdown",
   "metadata": {},
   "source": [
    "Now, we are going to rerun our code on the updated dictionaries to count the new keywords. "
   ]
  },
  {
   "cell_type": "code",
   "execution_count": 14,
   "metadata": {},
   "outputs": [],
   "source": [
    "countKeywords(reuters, reutersDict)\n",
    "countKeywords(MSNBC, MSNBCDict)\n",
    "countKeywords(foxNews, foxNewsDict)"
   ]
  },
  {
   "cell_type": "markdown",
   "metadata": {},
   "source": [
    "Finally, we record results from our dictionaries. An example dictionary result for Reuters is printed below. "
   ]
  },
  {
   "cell_type": "code",
   "execution_count": 15,
   "metadata": {},
   "outputs": [
    {
     "name": "stdout",
     "output_type": "stream",
     "text": [
      "{'economy': 6, 'healthcare': 0, 'supreme court': 3, 'coronavirus': 32, 'crime': 0, 'foreign policy': 0, 'guns': 0, 'race': 5, 'immigration': 0, 'inequality': 0, 'climate change': 1, 'abortion': 0, 'police': 3, 'government': 11, 'covid': 43, 'president': 30, 'congress': 1}\n",
      "{'economy': 1, 'healthcare': 0, 'supreme court': 9, 'coronavirus': 32, 'crime': 0, 'foreign policy': 0, 'guns': 0, 'race': 5, 'immigration': 0, 'inequality': 0, 'climate change': 0, 'abortion': 0, 'police': 0, 'government': 0, 'covid': 30, 'president': 84, 'congress': 1}\n",
      "{'economy': 1, 'healthcare': 0, 'supreme court': 11, 'coronavirus': 67, 'crime': 0, 'foreign policy': 0, 'guns': 0, 'race': 1, 'immigration': 0, 'inequality': 0, 'climate change': 0, 'abortion': 0, 'police': 5, 'government': 2, 'covid': 46, 'president': 119, 'congress': 1}\n"
     ]
    }
   ],
   "source": [
    "print(reutersDict)\n",
    "print(MSNBCDict)\n",
    "print(foxNewsDict)"
   ]
  },
  {
   "cell_type": "markdown",
   "metadata": {},
   "source": [
    "Concluding our keyword frequency exploration, we decided it would be ideal to have 800 posts per news source in our final sample (2400 total). This would ensure that we have enough data to achieve meaningful results and conclusions. In our final sample, we will perform some data analysis techniques on this frequency data. "
   ]
  },
  {
   "cell_type": "markdown",
   "metadata": {},
   "source": [
    "## Part III:  Applying a Data Analysis Technique on our Sample"
   ]
  },
  {
   "cell_type": "markdown",
   "metadata": {},
   "source": [
    "In this section, we will apply a data analysis technique that we encountered during our Literature Review. We will use this application to evaluate whether or not this data analysis technique would be feasible to use on our final sample.\n",
    "\n",
    "A paper that resonated with us during our Literature Review was titled “Social Media News Communities: Gatekeeping, Coverage, and Statement Bias” published by Diego Saez-Trumper, Carlos Castillo, and Mounia Lalmas. These researchers collected a preselected list of news websites chosen from Alexa’s top 100 websites. Over a two week period, they checked each source every 30 minutes for new articles. Next, they aggregated the articles into stories which discussed a common topic or event by measuring the cosine similarity of pairs of articles using TF.IDF weighting.\n",
    "\n",
    "We chose apply this technique by calculating the TF-IDF scores using the NLTK libary and the .TextCollection() API which provides TF, IDF, and TF-IDF abstractions for us to use. We merged this idea with a technique we looked at from Professor Eni Mustafaraj's notebook titled \"Day 11 - Mining Text Files-checkpoint\" that we explored during lecture. We used our predetermined keywords to query text data using TF-IDF. This provides for us a score and a ranking of each of the text posts based on certain keywords. We experimented with different keywords as well as various combinations of keywords. "
   ]
  },
  {
   "cell_type": "code",
   "execution_count": 16,
   "metadata": {},
   "outputs": [],
   "source": [
    "import nltk"
   ]
  },
  {
   "cell_type": "markdown",
   "metadata": {},
   "source": [
    "We will create a function QueryTextData that takes in a string of keyword(s) as query terms and parses through the terms within the text of each post, ranking each post in order of its similarity to the keyword(s). Finally, the function prints out the resulting texts and scores in a ranked order. The function is designed so the ranking only includes posts in which the text contained at least one of the keyword(s)."
   ]
  },
  {
   "cell_type": "code",
   "execution_count": 17,
   "metadata": {},
   "outputs": [],
   "source": [
    "def QueryTextData(keywords):\n",
    "    \n",
    "    data = reuters # data from reuters Facebook page\n",
    "    \n",
    "    activities = [] # create an empty list \n",
    "    for post in reuters: # iterate through data and pull out post text\n",
    "        activity = post[0].lower().split() # split words within posts into lists\n",
    "        activities.append(activity) # append each list to empty list \n",
    "            \n",
    "    tc = nltk.TextCollection(activities) # TextCollection provides tf, idf, and tf_idf abstractions\n",
    "    \n",
    "    relevant_activities = [] # create a new list for relevant posts (posts containing keywords)\n",
    "\n",
    "    for idx in range(len(activities)):\n",
    "        score = 0\n",
    "        for term in [t.lower() for t in keywords]:\n",
    "            score += tc.tf_idf(term, activities[idx]) # iterate through terms in each post and calculate score\n",
    "        if score > 0: # only add to relevant list if score > 0 (keyword is in post)\n",
    "            relevant_activities.append({'score': score, 'title': data[idx][0]})\n",
    "    \n",
    "    # sort by score and display results\n",
    "    relevant_activities = sorted(relevant_activities,\n",
    "                             key=lambda p: p['score'], reverse=True)\n",
    "    \n",
    "    for activity in relevant_activities:\n",
    "        print('Title: {0}'.format(activity['title']))\n",
    "        print('Score: {0}'.format(activity['score']))\n",
    "        print()"
   ]
  },
  {
   "cell_type": "markdown",
   "metadata": {},
   "source": [
    "As the final piece of our data analysis technique, we will test our function on some randomly selected keywords and combinations of keywords in order to see relevance and rankings.\n",
    "\n",
    "The functions were commented out to save space, but they can be uncommented to view results. "
   ]
  },
  {
   "cell_type": "code",
   "execution_count": 73,
   "metadata": {},
   "outputs": [],
   "source": [
    "#QueryTextData('coronavirus')"
   ]
  },
  {
   "cell_type": "code",
   "execution_count": 75,
   "metadata": {},
   "outputs": [],
   "source": [
    "#QueryTextData('race')"
   ]
  },
  {
   "cell_type": "code",
   "execution_count": 77,
   "metadata": {},
   "outputs": [],
   "source": [
    "#QueryTextData('climate change')"
   ]
  },
  {
   "cell_type": "markdown",
   "metadata": {},
   "source": [
    "Concluding our exploration, we decided that ranking our keywords does not provide as much insight as we hoped it would. We will take concept from our exploration to use with our final sample, but we will not use the ranking format as we had hoped to. "
   ]
  },
  {
   "cell_type": "markdown",
   "metadata": {},
   "source": [
    "## Part IV: Building and Testing a Classifier on our Sample"
   ]
  },
  {
   "cell_type": "markdown",
   "metadata": {},
   "source": [
    "In this section we will create a classification system that can predict whether a given text post comes from either the Reuters (center/moderate), MSNBC (left-wing), or Fox News (right-wing) Facebook page. The code for this section was based off of the Day 14 Sentiment Analysis notebook, specifically section 2. We start by creating our test and training data sets, which are subsets of the text posts we scraped from the three facebook pages. Both of these data sets are large arrays of tuples, where the tuple first contains the text post as a string, and then another string with the name of the news page where it originated."
   ]
  },
  {
   "cell_type": "code",
   "execution_count": 18,
   "metadata": {},
   "outputs": [],
   "source": [
    "# create two empty lists to hold the training and testing data\n",
    "train = []\n",
    "test = []\n",
    "\n",
    "# subset the scraped reuters data and add it to the correct list\n",
    "reutersTrain = reuters[0:149]\n",
    "reutersTest = reuters[150:174]\n",
    "\n",
    "for post in reutersTrain:\n",
    "    train.append((post[0], \"Reuters\"))\n",
    "    \n",
    "for post in reutersTest:\n",
    "    test.append((post[0], \"Reuters\"))\n",
    "\n",
    "# subset the scraped MSNBC data and add it to the correct list\n",
    "msnbcTrain = MSNBC[0:149]\n",
    "msnbcTest = MSNBC[150:174]\n",
    "\n",
    "for post in msnbcTrain:\n",
    "    train.append((post[0], \"MSNBC\"))\n",
    "\n",
    "for post in msnbcTest:\n",
    "    test.append((post[0], \"MSNBC\"))\n",
    "    \n",
    "# subset the scraped Fox News data and add it to the correct list\n",
    "foxNewsTrain = foxNews[0:149]\n",
    "foxNewsTest = foxNews[150:174]\n",
    "\n",
    "for post in foxNewsTrain:\n",
    "    train.append((post[0], \"Fox News\"))\n",
    "    \n",
    "for post in foxNewsTest:    \n",
    "    test.append((post[0], \"Fox News\"))"
   ]
  },
  {
   "cell_type": "markdown",
   "metadata": {},
   "source": [
    "The training and testing data sets can be viewed in their entirety by uncommenting and running the cells below."
   ]
  },
  {
   "cell_type": "code",
   "execution_count": 80,
   "metadata": {},
   "outputs": [],
   "source": [
    "#print(test)"
   ]
  },
  {
   "cell_type": "code",
   "execution_count": 81,
   "metadata": {},
   "outputs": [],
   "source": [
    "#print(train)"
   ]
  },
  {
   "cell_type": "markdown",
   "metadata": {},
   "source": [
    "Next, we import the Naive Bayes Classifier module, which will help us to train our classifier and use it for testing."
   ]
  },
  {
   "cell_type": "code",
   "execution_count": 19,
   "metadata": {},
   "outputs": [],
   "source": [
    "from textblob.classifiers import NaiveBayesClassifier\n",
    "cl = NaiveBayesClassifier(train)"
   ]
  },
  {
   "cell_type": "code",
   "execution_count": 20,
   "metadata": {},
   "outputs": [
    {
     "data": {
      "text/plain": [
       "0.8055555555555556"
      ]
     },
     "execution_count": 20,
     "metadata": {},
     "output_type": "execute_result"
    }
   ],
   "source": [
    "cl.accuracy(test)"
   ]
  },
  {
   "cell_type": "markdown",
   "metadata": {},
   "source": [
    "As seen above, our initial accuracy rating is 80.5%, indicating that our machine can predict the source of a given Facebook news text post correctly 80.5% of the time. Below is the entire output of running our testing data set through the classifier, and it includes the predicted and actual sources next to the corresponding text post. As we can see, the classifier frequently chooses the correct source."
   ]
  },
  {
   "cell_type": "markdown",
   "metadata": {},
   "source": [
    "*We commented the section below for simplicity because it is quite lengthy. Uncomment the cell to view the results including the prediciton, the truth, and the sentence.*"
   ]
  },
  {
   "cell_type": "code",
   "execution_count": 85,
   "metadata": {},
   "outputs": [],
   "source": [
    "# print(\"Predict | True | Sentence\")\n",
    "# for sentence in test:\n",
    "#     print(cl.classify(sentence[0]) + \" | \"  + sentence[1] + \" | \" + sentence[0])"
   ]
  },
  {
   "cell_type": "markdown",
   "metadata": {},
   "source": [
    "We were satisfied with how this classifier functioned, as well as the accuracy, so we decided to move forward with using it as our model in our final data analysis. "
   ]
  },
  {
   "cell_type": "markdown",
   "metadata": {},
   "source": [
    "# Section B: Final Data Analysis"
   ]
  },
  {
   "cell_type": "markdown",
   "metadata": {},
   "source": [
    "In Section B, we have our final data set which consists of 1000 posts from each news source we are observing (Reuters, MSNBC, and Fox News). Since the news is always changing, to ensure time as a control, to the best of our ability, **all data was scraped from Reuters, MSNBC, and FoxNews Facebook pages on October 6, 2020 between 11am and 3pm EDT.** \n",
    "\n",
    "Our final dataset will consist of 2400 posts (800 from each of Reuters, MSNBC, and FoxNews). We will evaluate keyword frequency by news source, evaluate average post length by news source, and perform quantitative and qualitative analysis on the results, then we will test and train a classifier on our dataset. Our classifier will be able to predict whether a post is from a right-wing, left-wing, or neutral news source. We will test our classifier on additional news sources and track the accuracy of our model. "
   ]
  },
  {
   "cell_type": "markdown",
   "metadata": {},
   "source": [
    "## Part I: Measuring Keyword Frequency"
   ]
  },
  {
   "cell_type": "markdown",
   "metadata": {},
   "source": [
    "### Collecting Keyword Frequency"
   ]
  },
  {
   "cell_type": "markdown",
   "metadata": {},
   "source": [
    "In Part I of our final data analysis, we will measure the keyword frequency of our predetermined keywords in our final data set. We will use dictionaries as well as the same process that we used in our sample exploration to do this. Refer back to Section A for in depth documentation. "
   ]
  },
  {
   "cell_type": "markdown",
   "metadata": {},
   "source": [
    "First, we load our collected data for all three news sources and assign appropriate names to each JSON file. "
   ]
  },
  {
   "cell_type": "markdown",
   "metadata": {},
   "source": [
    "**In order to replicate our process on a personal computer, the file path for *all* JSON loads may need to be altered. For easiest access, move the 'PM6_MarisaPapagelis_NatalieReid' folder, containing all of our work, to your desktop, and the given file paths should work**"
   ]
  },
  {
   "cell_type": "code",
   "execution_count": 21,
   "metadata": {},
   "outputs": [],
   "source": [
    "with open ('JSON files/reuters-posts.json','r') as infile:\n",
    "    reuters = json.load(infile)"
   ]
  },
  {
   "cell_type": "code",
   "execution_count": 22,
   "metadata": {},
   "outputs": [],
   "source": [
    "with open ('JSON files/MSNBC-posts.json','r') as infile:\n",
    "    MSNBC = json.load(infile)"
   ]
  },
  {
   "cell_type": "code",
   "execution_count": 23,
   "metadata": {},
   "outputs": [],
   "source": [
    "with open ('JSON files/FoxNews-posts.json','r') as infile:\n",
    "    foxNews = json.load(infile)"
   ]
  },
  {
   "cell_type": "markdown",
   "metadata": {},
   "source": [
    "We subset our data to choose the first 800 posts from each news source to use in our dataset. "
   ]
  },
  {
   "cell_type": "code",
   "execution_count": 7,
   "metadata": {},
   "outputs": [],
   "source": [
    "reuters = reuters[0:799]\n",
    "MSNBC = MSNBC[0:799]\n",
    "foxNews = foxNews[0:799]"
   ]
  },
  {
   "cell_type": "markdown",
   "metadata": {},
   "source": [
    "Next, we create dictionaries with all of our predetermined keywords. Each keyword is set to 0 to prepare for counting. "
   ]
  },
  {
   "cell_type": "code",
   "execution_count": 25,
   "metadata": {},
   "outputs": [],
   "source": [
    "reutersDict = {'economy' : 0,'healthcare' : 0, 'supreme court' : 0, 'coronavirus' : 0, 'crime' : 0, 'foreign policy' : 0, 'guns' : 0, 'race' : 0, 'immigration' : 0, 'inequality' : 0, 'climate change' : 0, 'abortion' : 0, 'police': 0, 'government': 0, 'covid': 0, 'president': 0, 'congress': 0}\n",
    "MSNBCDict = {'economy' : 0,'healthcare' : 0, 'supreme court' : 0, 'coronavirus' : 0, 'crime' : 0, 'foreign policy' : 0, 'guns' : 0, 'race' : 0, 'immigration' : 0, 'inequality' : 0, 'climate change' : 0, 'abortion' : 0, 'police': 0, 'government': 0, 'covid': 0, 'president': 0, 'congress': 0}\n",
    "foxNewsDict = {'economy' : 0,'healthcare' : 0, 'supreme court' : 0, 'coronavirus' : 0, 'crime' : 0, 'foreign policy' : 0, 'guns' : 0, 'race' : 0, 'immigration' : 0, 'inequality' : 0, 'climate change' : 0, 'abortion' : 0, 'police': 0, 'government': 0, 'covid': 0, 'president': 0, 'congress': 0}"
   ]
  },
  {
   "cell_type": "markdown",
   "metadata": {},
   "source": [
    "In order to collect data, for each news source page we will loop through the text of each post for the predetermined keywords using the dictionaries to keep count. The hasNoText function checks to see if a given post has no text in the body, which gets stored in our dictionary as 'NaN'. The post!=post notation returns true if it has no text, false if otherwise. This function is then incorporated into the countKeywords function because we only want to examine a post for keywords if it actually contains any text. If not, we skip that post and move on to the next one."
   ]
  },
  {
   "cell_type": "code",
   "execution_count": 26,
   "metadata": {},
   "outputs": [],
   "source": [
    "# remove any posts that do not have text\n",
    "def hasNoText(post):\n",
    "    return post != post\n",
    "\n",
    "# count the frequency of keywords from a site's dictionary of posts\n",
    "def countKeywords(site, siteDict):\n",
    "    for post in site:\n",
    "        for key in siteDict:\n",
    "            if hasNoText(post[0]) == False:\n",
    "                if key in post[0].lower():\n",
    "                    siteDict[key] += 1"
   ]
  },
  {
   "cell_type": "markdown",
   "metadata": {},
   "source": [
    "Run the countKeywords function on our three news sources. "
   ]
  },
  {
   "cell_type": "code",
   "execution_count": 27,
   "metadata": {},
   "outputs": [],
   "source": [
    "countKeywords(reuters, reutersDict)\n",
    "countKeywords(MSNBC, MSNBCDict)\n",
    "countKeywords(foxNews, foxNewsDict)"
   ]
  },
  {
   "cell_type": "markdown",
   "metadata": {},
   "source": [
    "Finally, we view our dictionaries to view keyword frequency, make observations, and perform analysis. "
   ]
  },
  {
   "cell_type": "code",
   "execution_count": 28,
   "metadata": {},
   "outputs": [
    {
     "name": "stdout",
     "output_type": "stream",
     "text": [
      "{'economy': 21, 'healthcare': 4, 'supreme court': 19, 'coronavirus': 161, 'crime': 4, 'foreign policy': 0, 'guns': 2, 'race': 14, 'immigration': 0, 'inequality': 0, 'climate change': 7, 'abortion': 0, 'police': 35, 'government': 56, 'covid': 144, 'president': 96, 'congress': 7}\n",
      "{'economy': 6, 'healthcare': 1, 'supreme court': 45, 'coronavirus': 119, 'crime': 0, 'foreign policy': 1, 'guns': 0, 'race': 13, 'immigration': 0, 'inequality': 2, 'climate change': 3, 'abortion': 0, 'police': 19, 'government': 5, 'covid': 114, 'president': 333, 'congress': 5}\n",
      "{'economy': 6, 'healthcare': 1, 'supreme court': 78, 'coronavirus': 115, 'crime': 0, 'foreign policy': 2, 'guns': 0, 'race': 6, 'immigration': 1, 'inequality': 0, 'climate change': 0, 'abortion': 0, 'police': 42, 'government': 7, 'covid': 66, 'president': 426, 'congress': 11}\n"
     ]
    }
   ],
   "source": [
    "print(reutersDict)\n",
    "print(MSNBCDict)\n",
    "print(foxNewsDict)"
   ]
  },
  {
   "cell_type": "markdown",
   "metadata": {},
   "source": [
    "### Keyword Frequency Analysis"
   ]
  },
  {
   "cell_type": "markdown",
   "metadata": {},
   "source": [
    "For the first part of our frequency analysis, in order to see which topics are most relevant to each news source, we will rank the keywords from largest to smallest number of posts each keyword appears in. We sort the dictionaries below."
   ]
  },
  {
   "cell_type": "code",
   "execution_count": 29,
   "metadata": {},
   "outputs": [],
   "source": [
    "reutersDictSorted = sorted(reutersDict.items(), key=lambda x: x[1], reverse=True)\n",
    "MSNBCDictSorted = sorted(MSNBCDict.items(), key=lambda x: x[1], reverse=True)\n",
    "FoxNewsDictSorted = sorted(foxNewsDict.items(), key=lambda x: x[1], reverse=True)"
   ]
  },
  {
   "cell_type": "markdown",
   "metadata": {},
   "source": [
    "We write a function to format and print the sorted results to be easily interpretable. "
   ]
  },
  {
   "cell_type": "code",
   "execution_count": 30,
   "metadata": {},
   "outputs": [],
   "source": [
    "def formatSort(newsSource):\n",
    "    for i in newsSource:\n",
    "        print(i[0], i[1])"
   ]
  },
  {
   "cell_type": "markdown",
   "metadata": {},
   "source": [
    "To view the results, we call the formatSort function on each sorted dictionary. Reuters is left uncommented as an example. Uncomment the other two functions in order to see full results."
   ]
  },
  {
   "cell_type": "code",
   "execution_count": 31,
   "metadata": {},
   "outputs": [
    {
     "name": "stdout",
     "output_type": "stream",
     "text": [
      "Reuters Dict\n",
      "coronavirus 161\n",
      "covid 144\n",
      "president 96\n",
      "government 56\n",
      "police 35\n",
      "economy 21\n",
      "supreme court 19\n",
      "race 14\n",
      "climate change 7\n",
      "congress 7\n",
      "healthcare 4\n",
      "crime 4\n",
      "guns 2\n",
      "foreign policy 0\n",
      "immigration 0\n",
      "inequality 0\n",
      "abortion 0\n"
     ]
    }
   ],
   "source": [
    "print('Reuters Dict')\n",
    "formatSort(reutersDictSorted)"
   ]
  },
  {
   "cell_type": "code",
   "execution_count": 32,
   "metadata": {},
   "outputs": [],
   "source": [
    "# print('MSNBC Dict')\n",
    "# formatSort(MSNBCDictSorted)"
   ]
  },
  {
   "cell_type": "code",
   "execution_count": 33,
   "metadata": {},
   "outputs": [],
   "source": [
    "# print('Fox News Dict')\n",
    "# formatSort(FoxNewsDictSorted)"
   ]
  },
  {
   "cell_type": "markdown",
   "metadata": {},
   "source": [
    "## Part II: Calculating Average Post Length"
   ]
  },
  {
   "cell_type": "markdown",
   "metadata": {},
   "source": [
    "In order to further explore our data, we calculated the average number of words in each post for each of our three news sources. \n",
    "\n",
    "First we created empty lists and looped through the text of the posts in all 800 posts in each news source, counting the number of words in each post, and added these values to the empty list. "
   ]
  },
  {
   "cell_type": "code",
   "execution_count": 34,
   "metadata": {},
   "outputs": [],
   "source": [
    "averageReuters = []\n",
    "for string in reuters:\n",
    "        averageReuters.append(len(string[0].split()))\n",
    "        \n",
    "averageMSNBC = []\n",
    "for string in MSNBC:\n",
    "        averageMSNBC.append(len(string[0].split()))\n",
    "        \n",
    "averagefoxNews = []\n",
    "for string in foxNews:\n",
    "        averagefoxNews.append(len(string[0].split()))"
   ]
  },
  {
   "cell_type": "markdown",
   "metadata": {},
   "source": [
    "We created a function to take the average numbers in a list. "
   ]
  },
  {
   "cell_type": "code",
   "execution_count": 35,
   "metadata": {},
   "outputs": [],
   "source": [
    "def Average(lst): \n",
    "    return sum(lst) / len(lst) "
   ]
  },
  {
   "cell_type": "markdown",
   "metadata": {},
   "source": [
    "We ran the function on our three news sources in order to find the average number of words in each news source. "
   ]
  },
  {
   "cell_type": "code",
   "execution_count": 36,
   "metadata": {},
   "outputs": [
    {
     "data": {
      "text/plain": [
       "30.50688360450563"
      ]
     },
     "execution_count": 36,
     "metadata": {},
     "output_type": "execute_result"
    }
   ],
   "source": [
    "Average(averageReuters)"
   ]
  },
  {
   "cell_type": "code",
   "execution_count": 37,
   "metadata": {},
   "outputs": [
    {
     "data": {
      "text/plain": [
       "31.414267834793492"
      ]
     },
     "execution_count": 37,
     "metadata": {},
     "output_type": "execute_result"
    }
   ],
   "source": [
    "Average(averageMSNBC)"
   ]
  },
  {
   "cell_type": "code",
   "execution_count": 38,
   "metadata": {},
   "outputs": [
    {
     "data": {
      "text/plain": [
       "27.46683354192741"
      ]
     },
     "execution_count": 38,
     "metadata": {},
     "output_type": "execute_result"
    }
   ],
   "source": [
    "Average(averagefoxNews)"
   ]
  },
  {
   "cell_type": "markdown",
   "metadata": {},
   "source": [
    "## Part III: Supervised Classification"
   ]
  },
  {
   "cell_type": "markdown",
   "metadata": {},
   "source": [
    "### Building a Classifier"
   ]
  },
  {
   "cell_type": "markdown",
   "metadata": {},
   "source": [
    "Once again we will build a classification system to predict whether a given test post comes from either the Reuters (center/moderate), MSNBC (left-wing), or Fox News (right-wing) Facebook Page. This time we will use our larger final data set, which consists of 2400 scraped posts in total. We will split the 800 posts from each page into two subsets, consisting of 700 posts for the training data set and 100 posts for the testing data set. Since we have much more data this time, we are expecting to see our accuracy score improve overall. We also changed the class labels to the more generic \"Center\"/\"Left-wing\"/\"Right-wing\" in preparation for our partisanship exploration later."
   ]
  },
  {
   "cell_type": "code",
   "execution_count": 8,
   "metadata": {},
   "outputs": [],
   "source": [
    "# create two empty lists to hold the training and testing data\n",
    "train = []\n",
    "test = []\n",
    "\n",
    "# subset the scraped reuters data and add it to the correct list\n",
    "reutersTrain = reuters[0:699]\n",
    "reutersTest = reuters[700:800]\n",
    "\n",
    "for post in reutersTrain:\n",
    "    train.append((post[0], \"Center\"))\n",
    "    \n",
    "for post in reutersTest:\n",
    "    test.append((post[0], \"Center\"))\n",
    "\n",
    "# subset the scraped MSNBC data and add it to the correct list\n",
    "msnbcTrain = MSNBC[0:699]\n",
    "msnbcTest = MSNBC[700:800]\n",
    "\n",
    "for post in msnbcTrain:\n",
    "    train.append((post[0], \"Left-wing\"))\n",
    "\n",
    "for post in msnbcTest:\n",
    "    test.append((post[0], \"Left-wing\"))\n",
    "    \n",
    "# subset the scraped Fox News data and add it to the correct list\n",
    "foxNewsTrain = foxNews[0:699]\n",
    "foxNewsTest = foxNews[700:800]\n",
    "\n",
    "for post in foxNewsTrain:\n",
    "    train.append((post[0], \"Right-wing\"))\n",
    "    \n",
    "for post in foxNewsTest:    \n",
    "    test.append((post[0], \"Right-wing\"))\n",
    "    "
   ]
  },
  {
   "cell_type": "markdown",
   "metadata": {},
   "source": [
    "The final testing and training data sets can be viewed by uncommenting and running the cells below."
   ]
  },
  {
   "cell_type": "code",
   "execution_count": 109,
   "metadata": {},
   "outputs": [],
   "source": [
    "#print(test)"
   ]
  },
  {
   "cell_type": "code",
   "execution_count": 110,
   "metadata": {},
   "outputs": [],
   "source": [
    "#print(train)"
   ]
  },
  {
   "cell_type": "code",
   "execution_count": 40,
   "metadata": {},
   "outputs": [],
   "source": [
    "from textblob.classifiers import NaiveBayesClassifier\n",
    "cl = NaiveBayesClassifier(train)"
   ]
  },
  {
   "cell_type": "markdown",
   "metadata": {},
   "source": [
    "Now we'll test the accuracy of our classification system. "
   ]
  },
  {
   "cell_type": "code",
   "execution_count": 41,
   "metadata": {},
   "outputs": [
    {
     "data": {
      "text/plain": [
       "0.797979797979798"
      ]
     },
     "execution_count": 41,
     "metadata": {},
     "output_type": "execute_result"
    }
   ],
   "source": [
    "cl.accuracy(test)"
   ]
  },
  {
   "cell_type": "markdown",
   "metadata": {},
   "source": [
    "The accuracy of our model is 80%. This means that our classification system is now able to correctly decide which Facebook page a given post came from about 80% of the time. This is much higher than pure chance, indicating that our system is working really well. Now we'll take a look at what our system predicts for each post in the testing data set."
   ]
  },
  {
   "cell_type": "markdown",
   "metadata": {},
   "source": [
    "*We commented the section below for simplicity because it is quite lengthy. Uncomment the cell to view the results including the prediciton, the truth, and the sentence.*"
   ]
  },
  {
   "cell_type": "code",
   "execution_count": 114,
   "metadata": {},
   "outputs": [],
   "source": [
    "# print(\"Predict | True | Sentence\")\n",
    "# for sentence in test:\n",
    "#     print(cl.classify(sentence[0]) + \" | \"  + sentence[1] + \" | \" + sentence[0])"
   ]
  },
  {
   "cell_type": "markdown",
   "metadata": {},
   "source": [
    "We know that our system might be better at accurately predicting the news page for some networks over others. To investigate this, we decided to create a confusion matrix from our testing data to further understand our model."
   ]
  },
  {
   "cell_type": "markdown",
   "metadata": {},
   "source": [
    "### Confusion Matricies"
   ]
  },
  {
   "cell_type": "markdown",
   "metadata": {},
   "source": [
    "In this subsection, we import sklearn.metrics in order to use a function to build our confusion matrix to determine where our classifier might be getting confused. "
   ]
  },
  {
   "cell_type": "code",
   "execution_count": 9,
   "metadata": {},
   "outputs": [],
   "source": [
    "from sklearn.metrics import confusion_matrix"
   ]
  },
  {
   "cell_type": "markdown",
   "metadata": {},
   "source": [
    "We created a list for the prediction of each sentence and a list for the truth of each sentence. We looped through the sentences in our test cohort and add the predictions and truths to the appropriate lists. "
   ]
  },
  {
   "cell_type": "code",
   "execution_count": 43,
   "metadata": {},
   "outputs": [],
   "source": [
    "y_true = []\n",
    "y_pred = []\n",
    "\n",
    "for sentence in test:\n",
    "    y_true.append(sentence[1])\n",
    "    y_pred.append(cl.classify(sentence[0]))"
   ]
  },
  {
   "cell_type": "markdown",
   "metadata": {},
   "source": [
    "Finally, we ran the confusion_matrix function on our data and created a confusion matrix to investigate our classifier. "
   ]
  },
  {
   "cell_type": "code",
   "execution_count": 44,
   "metadata": {},
   "outputs": [
    {
     "data": {
      "text/plain": [
       "array([[72,  3, 24],\n",
       "       [ 5, 75, 19],\n",
       "       [ 4,  5, 90]])"
      ]
     },
     "execution_count": 44,
     "metadata": {},
     "output_type": "execute_result"
    }
   ],
   "source": [
    "confusion_matrix(y_true, y_pred, labels=[\"Center\", \"Left-wing\", \"Right-wing\"])"
   ]
  },
  {
   "cell_type": "markdown",
   "metadata": {},
   "source": [
    "Below, we create a visualization of our confusion matrix for presentational purposes"
   ]
  },
  {
   "cell_type": "code",
   "execution_count": 45,
   "metadata": {},
   "outputs": [
    {
     "name": "stderr",
     "output_type": "stream",
     "text": [
      "/opt/anaconda3/lib/python3.8/site-packages/sklearn/utils/validation.py:68: FutureWarning: Pass labels=['Center', 'Left-wing', 'Right-wing'] as keyword args. From version 0.25 passing these as positional arguments will result in an error\n",
      "  warnings.warn(\"Pass {} as keyword args. From version 0.25 \"\n"
     ]
    },
    {
     "name": "stdout",
     "output_type": "stream",
     "text": [
      "[[72  3 24]\n",
      " [ 5 75 19]\n",
      " [ 4  5 90]]\n"
     ]
    },
    {
     "data": {
      "image/png": "[encoded data removed]",
      "text/plain": [
       "<Figure size 432x288 with 2 Axes>"
      ]
     },
     "metadata": {
      "needs_background": "light"
     },
     "output_type": "display_data"
    }
   ],
   "source": [
    "import matplotlib.pyplot as plt\n",
    "labels = [\"Center\", \"Left-wing\", \"Right-wing\"]\n",
    "cm = confusion_matrix(y_true, y_pred, labels)\n",
    "print(cm)\n",
    "fig = plt.figure()\n",
    "ax = fig.add_subplot(111)\n",
    "cax = ax.matshow(cm)\n",
    "plt.title('Confusion Matrix')\n",
    "fig.colorbar(cax)\n",
    "ax.set_xticklabels([''] + labels)\n",
    "ax.set_yticklabels([''] + labels)\n",
    "plt.xlabel('Predicted')\n",
    "plt.ylabel('True')\n",
    "plt.show()"
   ]
  },
  {
   "cell_type": "markdown",
   "metadata": {},
   "source": [
    "### Comparing Percentages of Keywords"
   ]
  },
  {
   "cell_type": "markdown",
   "metadata": {},
   "source": [
    "In an attempt to understand why the classifier works so well on our right-wing news source, we will compare the percentage of **keywords** in the test set for each news source that was seen in the training set of that source. "
   ]
  },
  {
   "cell_type": "markdown",
   "metadata": {},
   "source": [
    "#### Training Datasets"
   ]
  },
  {
   "cell_type": "markdown",
   "metadata": {},
   "source": [
    "We have to set the dictionaries back to zero to count the training datasets. "
   ]
  },
  {
   "cell_type": "code",
   "execution_count": 46,
   "metadata": {},
   "outputs": [],
   "source": [
    "reutersDict = {'economy' : 0,'healthcare' : 0, 'supreme court' : 0, 'coronavirus' : 0, 'crime' : 0, 'foreign policy' : 0, 'guns' : 0, 'race' : 0, 'immigration' : 0, 'inequality' : 0, 'climate change' : 0, 'abortion' : 0, 'police': 0, 'government': 0, 'covid': 0, 'president': 0, 'congress': 0}\n",
    "MSNBCDict = {'economy' : 0,'healthcare' : 0, 'supreme court' : 0, 'coronavirus' : 0, 'crime' : 0, 'foreign policy' : 0, 'guns' : 0, 'race' : 0, 'immigration' : 0, 'inequality' : 0, 'climate change' : 0, 'abortion' : 0, 'police': 0, 'government': 0, 'covid': 0, 'president': 0, 'congress': 0}\n",
    "foxNewsDict = {'economy' : 0,'healthcare' : 0, 'supreme court' : 0, 'coronavirus' : 0, 'crime' : 0, 'foreign policy' : 0, 'guns' : 0, 'race' : 0, 'immigration' : 0, 'inequality' : 0, 'climate change' : 0, 'abortion' : 0, 'police': 0, 'government': 0, 'covid': 0, 'president': 0, 'congress': 0}"
   ]
  },
  {
   "cell_type": "markdown",
   "metadata": {},
   "source": [
    "Next, we run the countKeywords function on the training sets and view the dictionaries."
   ]
  },
  {
   "cell_type": "code",
   "execution_count": 47,
   "metadata": {},
   "outputs": [],
   "source": [
    "countKeywords(reutersTrain, reutersDict)\n",
    "countKeywords(msnbcTrain, MSNBCDict)\n",
    "countKeywords(foxNewsTrain, foxNewsDict)"
   ]
  },
  {
   "cell_type": "code",
   "execution_count": 48,
   "metadata": {},
   "outputs": [
    {
     "name": "stdout",
     "output_type": "stream",
     "text": [
      "{'economy': 19, 'healthcare': 2, 'supreme court': 18, 'coronavirus': 134, 'crime': 3, 'foreign policy': 0, 'guns': 2, 'race': 14, 'immigration': 0, 'inequality': 0, 'climate change': 6, 'abortion': 0, 'police': 29, 'government': 51, 'covid': 129, 'president': 93, 'congress': 4}\n",
      "{'economy': 6, 'healthcare': 1, 'supreme court': 41, 'coronavirus': 112, 'crime': 0, 'foreign policy': 1, 'guns': 0, 'race': 13, 'immigration': 0, 'inequality': 1, 'climate change': 3, 'abortion': 0, 'police': 6, 'government': 3, 'covid': 108, 'president': 315, 'congress': 3}\n",
      "{'economy': 6, 'healthcare': 1, 'supreme court': 78, 'coronavirus': 109, 'crime': 0, 'foreign policy': 2, 'guns': 0, 'race': 6, 'immigration': 1, 'inequality': 0, 'climate change': 0, 'abortion': 0, 'police': 27, 'government': 6, 'covid': 63, 'president': 407, 'congress': 10}\n"
     ]
    }
   ],
   "source": [
    "print(reutersDict)\n",
    "print(MSNBCDict)\n",
    "print(foxNewsDict)"
   ]
  },
  {
   "cell_type": "markdown",
   "metadata": {},
   "source": [
    "#### Testing Datasets"
   ]
  },
  {
   "cell_type": "markdown",
   "metadata": {},
   "source": [
    "We have to set the dictionaries back to zero to count the testing datasets. "
   ]
  },
  {
   "cell_type": "code",
   "execution_count": 122,
   "metadata": {},
   "outputs": [],
   "source": [
    "reutersDict = {'economy' : 0,'healthcare' : 0, 'supreme court' : 0, 'coronavirus' : 0, 'crime' : 0, 'foreign policy' : 0, 'guns' : 0, 'race' : 0, 'immigration' : 0, 'inequality' : 0, 'climate change' : 0, 'abortion' : 0, 'police': 0, 'government': 0, 'covid': 0, 'president': 0, 'congress': 0}\n",
    "MSNBCDict = {'economy' : 0,'healthcare' : 0, 'supreme court' : 0, 'coronavirus' : 0, 'crime' : 0, 'foreign policy' : 0, 'guns' : 0, 'race' : 0, 'immigration' : 0, 'inequality' : 0, 'climate change' : 0, 'abortion' : 0, 'police': 0, 'government': 0, 'covid': 0, 'president': 0, 'congress': 0}\n",
    "foxNewsDict = {'economy' : 0,'healthcare' : 0, 'supreme court' : 0, 'coronavirus' : 0, 'crime' : 0, 'foreign policy' : 0, 'guns' : 0, 'race' : 0, 'immigration' : 0, 'inequality' : 0, 'climate change' : 0, 'abortion' : 0, 'police': 0, 'government': 0, 'covid': 0, 'president': 0, 'congress': 0}"
   ]
  },
  {
   "cell_type": "markdown",
   "metadata": {},
   "source": [
    "Next, we run the countKeywords function on the testing sets and view the dictionaries"
   ]
  },
  {
   "cell_type": "code",
   "execution_count": 123,
   "metadata": {},
   "outputs": [],
   "source": [
    "countKeywords(reutersTest, reutersDict)\n",
    "countKeywords(msnbcTest, MSNBCDict)\n",
    "countKeywords(foxNewsTest, foxNewsDict)"
   ]
  },
  {
   "cell_type": "code",
   "execution_count": 124,
   "metadata": {},
   "outputs": [
    {
     "name": "stdout",
     "output_type": "stream",
     "text": [
      "{'economy': 2, 'healthcare': 2, 'supreme court': 1, 'coronavirus': 27, 'crime': 1, 'foreign policy': 0, 'guns': 0, 'race': 0, 'immigration': 0, 'inequality': 0, 'climate change': 1, 'abortion': 0, 'police': 6, 'government': 5, 'covid': 15, 'president': 3, 'congress': 3}\n",
      "{'economy': 0, 'healthcare': 0, 'supreme court': 4, 'coronavirus': 7, 'crime': 0, 'foreign policy': 0, 'guns': 0, 'race': 0, 'immigration': 0, 'inequality': 1, 'climate change': 0, 'abortion': 0, 'police': 13, 'government': 2, 'covid': 6, 'president': 17, 'congress': 2}\n",
      "{'economy': 0, 'healthcare': 0, 'supreme court': 0, 'coronavirus': 6, 'crime': 0, 'foreign policy': 0, 'guns': 0, 'race': 0, 'immigration': 0, 'inequality': 0, 'climate change': 0, 'abortion': 0, 'police': 15, 'government': 1, 'covid': 3, 'president': 19, 'congress': 1}\n"
     ]
    }
   ],
   "source": [
    "print(reutersDict)\n",
    "print(MSNBCDict)\n",
    "print(foxNewsDict)"
   ]
  },
  {
   "cell_type": "markdown",
   "metadata": {},
   "source": [
    "We exported all six of the dictionaries above to an Excel sheet for further analysis."
   ]
  },
  {
   "cell_type": "markdown",
   "metadata": {},
   "source": [
    "**After analysis, we decided to not use any of this information in our project. Since the classifier uses *all* words and not just our selected keywords, we decided it would be more effective to measure percantages of *all* words, which we did below**"
   ]
  },
  {
   "cell_type": "markdown",
   "metadata": {},
   "source": [
    "### Comparing Percentages of *All Words*"
   ]
  },
  {
   "cell_type": "markdown",
   "metadata": {},
   "source": [
    "In order to further analyze the accuracy of the classifier, we will look at the percentages of all words in the training data set vs. the testing data set. We use this exploration to answer the following question: \n",
    "\n",
    "### **What percentage of the words in the test data was seen in the training data?**\n",
    "\n",
    "First, we will compare between all testing and all traiing data, and then we will split the data into the three appropriate news sources"
   ]
  },
  {
   "cell_type": "code",
   "execution_count": 10,
   "metadata": {},
   "outputs": [],
   "source": [
    "from sklearn.feature_extraction.text import CountVectorizer"
   ]
  },
  {
   "cell_type": "markdown",
   "metadata": {},
   "source": [
    "We loop through the tuples to grab only the post texts, and not the partisanship, from each tuple, and add them to a new list"
   ]
  },
  {
   "cell_type": "code",
   "execution_count": 11,
   "metadata": {},
   "outputs": [],
   "source": [
    "trainSentences = []\n",
    "for tup in train:\n",
    "    trainSentences.append(tup[0])\n",
    "\n",
    "testSentences = []\n",
    "for tup in test: \n",
    "    testSentences.append(tup[0])"
   ]
  },
  {
   "cell_type": "markdown",
   "metadata": {},
   "source": [
    "We implement a training and a testing count vectorizer, and we fit the sentences"
   ]
  },
  {
   "cell_type": "code",
   "execution_count": 12,
   "metadata": {},
   "outputs": [
    {
     "data": {
      "text/plain": [
       "<2097x7916 sparse matrix of type '<class 'numpy.int64'>'\n",
       "\twith 57451 stored elements in Compressed Sparse Row format>"
      ]
     },
     "execution_count": 12,
     "metadata": {},
     "output_type": "execute_result"
    }
   ],
   "source": [
    "vectorizerTrain = CountVectorizer()\n",
    "X_train = vectorizerTrain.fit_transform(trainSentences)\n",
    "X_train"
   ]
  },
  {
   "cell_type": "code",
   "execution_count": 13,
   "metadata": {},
   "outputs": [
    {
     "data": {
      "text/plain": [
       "<297x2347 sparse matrix of type '<class 'numpy.int64'>'\n",
       "\twith 7083 stored elements in Compressed Sparse Row format>"
      ]
     },
     "execution_count": 13,
     "metadata": {},
     "output_type": "execute_result"
    }
   ],
   "source": [
    "vectorizerTest = CountVectorizer()\n",
    "X_test = vectorizerTest.fit_transform(testSentences)\n",
    "X_test"
   ]
  },
  {
   "cell_type": "markdown",
   "metadata": {},
   "source": [
    "We use .get_feature_names() to parse through the vectorizer and create a list of all of the unique words within a list of sentences. We use this extension in addition to a counter to loop through the test and train unique features and figure out how many unique words in the test data set are in the training data set. Lastly, we divide the number of unique words in the training and testing set by the number of the words in the testing set, to get the percentage we are looking for. "
   ]
  },
  {
   "cell_type": "code",
   "execution_count": 21,
   "metadata": {},
   "outputs": [
    {
     "name": "stdout",
     "output_type": "stream",
     "text": [
      "1664\n",
      "2347\n"
     ]
    }
   ],
   "source": [
    "counter = 0\n",
    "for word in vectorizerTest.get_feature_names(): \n",
    "    if word in vectorizerTrain.get_feature_names():\n",
    "        counter += 1\n",
    "print(counter)\n",
    "print(len(vectorizerTest.get_feature_names()))"
   ]
  },
  {
   "cell_type": "markdown",
   "metadata": {},
   "source": [
    "### (1664/2347) * 100 = 70.9%"
   ]
  },
  {
   "cell_type": "markdown",
   "metadata": {},
   "source": [
    "We run this code again on the testing and training sets from Reuters, MSNBC, and Fox News. \n",
    "We loop through the tuples to grab only the post texts, and not the partisanship, from each tuple, and add them to a new list"
   ]
  },
  {
   "cell_type": "code",
   "execution_count": 14,
   "metadata": {},
   "outputs": [],
   "source": [
    "reutersTrainSentences = []\n",
    "for tup in reutersTrain:\n",
    "    reutersTrainSentences.append(tup[0])\n",
    "\n",
    "reutersTestSentences = []\n",
    "for tup in test: \n",
    "    reutersTestSentences.append(tup[0])\n",
    "    \n",
    "msnbcTrainSentences = []\n",
    "for tup in msnbcTrain:\n",
    "    msnbcTrainSentences.append(tup[0])\n",
    "\n",
    "msnbcTestSentences = []\n",
    "for tup in test: \n",
    "    msnbcTestSentences.append(tup[0])\n",
    "\n",
    "foxNewsTrainSentences = []\n",
    "for tup in foxNewsTrain:\n",
    "    foxNewsTrainSentences.append(tup[0])\n",
    "\n",
    "foxNewsTestSentences = []\n",
    "for tup in test: \n",
    "    foxNewsTestSentences.append(tup[0])"
   ]
  },
  {
   "cell_type": "markdown",
   "metadata": {},
   "source": [
    "We implement a training and a testing count vectorizer, and we fit the sentences"
   ]
  },
  {
   "cell_type": "code",
   "execution_count": 18,
   "metadata": {},
   "outputs": [],
   "source": [
    "reutersVectorizerTrain = CountVectorizer()\n",
    "X_train = reutersVectorizerTrain.fit_transform(reutersTrainSentences)\n",
    "\n",
    "reutersVectorizerTest = CountVectorizer()\n",
    "X_test = reutersVectorizerTest.fit_transform(reutersTestSentences)\n",
    "\n",
    "msnbcVectorizerTrain = CountVectorizer()\n",
    "X_train = msnbcVectorizerTrain.fit_transform(msnbcTrainSentences)\n",
    "\n",
    "msnbcVectorizerTest = CountVectorizer()\n",
    "X_test = msnbcVectorizerTest.fit_transform(msnbcTestSentences)\n",
    "\n",
    "foxNewsVectorizerTrain = CountVectorizer()\n",
    "X_train = foxNewsVectorizerTrain.fit_transform(foxNewsTrainSentences)\n",
    "\n",
    "foxNewsVectorizerTest = CountVectorizer()\n",
    "X_test = foxNewsVectorizerTest.fit_transform(foxNewsTestSentences)"
   ]
  },
  {
   "cell_type": "markdown",
   "metadata": {},
   "source": [
    "We use .get_feature_names() to parse through the vectorizer and create a list of all of the unique words within a list of sentences. We use this extension in addition to a counter to loop through the test and train unique features and figure out how many unique words in the test data set are in the training data set. Lastly, we divide the number of unique words in the training and testing set by the number of the words in the testing set, to get the percentage we are looking for. "
   ]
  },
  {
   "cell_type": "markdown",
   "metadata": {},
   "source": [
    "#### Reuters"
   ]
  },
  {
   "cell_type": "code",
   "execution_count": 22,
   "metadata": {},
   "outputs": [
    {
     "name": "stdout",
     "output_type": "stream",
     "text": [
      "1274\n",
      "2347\n"
     ]
    }
   ],
   "source": [
    "counter = 0\n",
    "for word in reutersVectorizerTest.get_feature_names(): \n",
    "    if word in reutersVectorizerTrain.get_feature_names():\n",
    "        counter += 1\n",
    "print(counter)\n",
    "print(len(reutersVectorizerTest.get_feature_names()))"
   ]
  },
  {
   "cell_type": "markdown",
   "metadata": {},
   "source": [
    "### (1274/2347) * 100 = 54.3%"
   ]
  },
  {
   "cell_type": "markdown",
   "metadata": {},
   "source": [
    "#### MSNBC"
   ]
  },
  {
   "cell_type": "code",
   "execution_count": 23,
   "metadata": {},
   "outputs": [
    {
     "name": "stdout",
     "output_type": "stream",
     "text": [
      "1144\n",
      "2347\n"
     ]
    }
   ],
   "source": [
    "counter = 0\n",
    "for word in msnbcVectorizerTest.get_feature_names(): \n",
    "    if word in msnbcVectorizerTrain.get_feature_names():\n",
    "        counter += 1\n",
    "print(counter)\n",
    "print(len(msnbcVectorizerTest.get_feature_names()))"
   ]
  },
  {
   "cell_type": "markdown",
   "metadata": {},
   "source": [
    "### (1144/2347) * 100 = 48.7%"
   ]
  },
  {
   "cell_type": "markdown",
   "metadata": {},
   "source": [
    "#### Fox News"
   ]
  },
  {
   "cell_type": "code",
   "execution_count": 24,
   "metadata": {},
   "outputs": [
    {
     "name": "stdout",
     "output_type": "stream",
     "text": [
      "1164\n",
      "2347\n"
     ]
    }
   ],
   "source": [
    "counter = 0\n",
    "for word in foxNewsVectorizerTest.get_feature_names(): \n",
    "    if word in foxNewsVectorizerTrain.get_feature_names():\n",
    "        counter += 1\n",
    "print(counter)\n",
    "print(len(foxNewsVectorizerTest.get_feature_names()))"
   ]
  },
  {
   "cell_type": "markdown",
   "metadata": {},
   "source": [
    "### (1164/2347) * 100 = 49.6%"
   ]
  },
  {
   "cell_type": "markdown",
   "metadata": {},
   "source": [
    "We will record these results to analyze in our results. "
   ]
  },
  {
   "cell_type": "markdown",
   "metadata": {},
   "source": [
    "### Testing our Classifier on Additional News Sources"
   ]
  },
  {
   "cell_type": "markdown",
   "metadata": {},
   "source": [
    "In order to see how accurate our classifier would be on news sources that are not the three we trained it on, we chose 6 more news sources to run our classifier on. We chose two historically neutral sources, AP and Bloomberg, two left-wing, Wonkette, CNN, and two right-wing, InfoWars, The Washington Times. *Both InfoWars and Wonkette are historically less reliable and contain propagated information, so we decided to include these sources to analyze what happens.* We made these selections using an Interactive Bias Media Chart (https://www.adfontesmedia.com/interactive-media-bias-chart-2/) that we referred to when choosing our intial three sources as well as during our Literature Review\n",
    "\n",
    "We decided to scrape 200 of the most recent posts from all six of our news sources and run them through the classifier to test to accuracy. Since our classifier was trained to work for any post, time does not need to be controlled in this step. "
   ]
  },
  {
   "cell_type": "markdown",
   "metadata": {},
   "source": [
    "First, we load in the appropriate json files. "
   ]
  },
  {
   "cell_type": "markdown",
   "metadata": {},
   "source": [
    "**In order to replicate our process on a personal computer, the file path for *all* JSON loads may need to be altered. For easiest access, move the 'PM6_MarisaPapagelis_NatalieReid' folder, containing all of our work, to your desktop, and the given file paths should work**"
   ]
  },
  {
   "cell_type": "code",
   "execution_count": 49,
   "metadata": {},
   "outputs": [],
   "source": [
    "with open ('JSON files/AP-posts.json','r') as infile:\n",
    "    AP = json.load(infile)"
   ]
  },
  {
   "cell_type": "code",
   "execution_count": 50,
   "metadata": {},
   "outputs": [],
   "source": [
    "with open ('JSON files/Bloomberg-posts.json','r') as infile:\n",
    "    Bloomberg = json.load(infile)"
   ]
  },
  {
   "cell_type": "code",
   "execution_count": 51,
   "metadata": {},
   "outputs": [],
   "source": [
    "with open ('JSON files/Wonkette-posts.json','r') as infile:\n",
    "    Wonkette = json.load(infile)"
   ]
  },
  {
   "cell_type": "code",
   "execution_count": 52,
   "metadata": {},
   "outputs": [],
   "source": [
    "with open ('JSON files/CNN-posts.json','r') as infile:\n",
    "    CNN = json.load(infile)"
   ]
  },
  {
   "cell_type": "code",
   "execution_count": 53,
   "metadata": {},
   "outputs": [],
   "source": [
    "with open ('JSON files/DailyCaller-posts.json','r') as infile:\n",
    "    DailyCaller = json.load(infile)"
   ]
  },
  {
   "cell_type": "code",
   "execution_count": 54,
   "metadata": {},
   "outputs": [],
   "source": [
    "with open ('JSON files/WashTimes-posts.json','r') as infile:\n",
    "    WashTimes = json.load(infile)"
   ]
  },
  {
   "cell_type": "markdown",
   "metadata": {},
   "source": [
    "We subset the files to hold only the first 200 posts for each selected news source. "
   ]
  },
  {
   "cell_type": "code",
   "execution_count": 55,
   "metadata": {},
   "outputs": [],
   "source": [
    "AP = AP[0:199]\n",
    "Bloomberg = Bloomberg[0:199]\n",
    "Wonkette = Wonkette[0:199]\n",
    "CNN = CNN[0:199]\n",
    "DailyCaller = DailyCaller[0:199]\n",
    "WashTimes = WashTimes[0:199]"
   ]
  },
  {
   "cell_type": "markdown",
   "metadata": {},
   "source": [
    "Now we'll create the testing data set from the scraped posts of the other six news pages. Again, we'll use the generic labels of \"left\", \"center\", and \"right\" because we're specifically looking at partisanship. The first 200 posts from each of these JSON files are already subsetted above."
   ]
  },
  {
   "cell_type": "code",
   "execution_count": 56,
   "metadata": {},
   "outputs": [],
   "source": [
    "test2 = []\n",
    "\n",
    "for post in AP:\n",
    "    test2.append((post[0], \"Center\"))\n",
    "\n",
    "for post in Bloomberg:\n",
    "    test2.append((post[0], \"Center\"))\n",
    "    \n",
    "for post in Wonkette:\n",
    "    test2.append((post[0], \"Left-wing\"))\n",
    "\n",
    "for post in CNN: \n",
    "    test2.append((post[0], \"Left-wing\"))\n",
    "    \n",
    "for post in DailyCaller:\n",
    "    test2.append((post[0], \"Right-wing\"))\n",
    "    \n",
    "for post in WashTimes:\n",
    "    test2.append((post[0], \"Right-wing\"))"
   ]
  },
  {
   "cell_type": "markdown",
   "metadata": {},
   "source": [
    "The entire testing data set can be viewed by uncommenting and running the cell below."
   ]
  },
  {
   "cell_type": "code",
   "execution_count": 134,
   "metadata": {},
   "outputs": [],
   "source": [
    "#print(test2)"
   ]
  },
  {
   "cell_type": "markdown",
   "metadata": {},
   "source": [
    "Finally, we'll test our new classifier on the additional scraped posts."
   ]
  },
  {
   "cell_type": "code",
   "execution_count": 57,
   "metadata": {},
   "outputs": [
    {
     "data": {
      "text/plain": [
       "0.4380234505862647"
      ]
     },
     "execution_count": 57,
     "metadata": {},
     "output_type": "execute_result"
    }
   ],
   "source": [
    "cl.accuracy(test2)"
   ]
  },
  {
   "cell_type": "markdown",
   "metadata": {},
   "source": [
    "*We commented the section below for simplicity because it is quite lengthy. Uncomment the cell to view the results including the prediciton, the truth, and the sentence.*"
   ]
  },
  {
   "cell_type": "code",
   "execution_count": 137,
   "metadata": {},
   "outputs": [],
   "source": [
    "# print(\"Predict | True | Sentence\")\n",
    "# for sentence in test2:\n",
    "#     print(cl.classify(sentence[0]) + \" | \"  + sentence[1] + \" | \" + sentence[0])"
   ]
  },
  {
   "cell_type": "markdown",
   "metadata": {},
   "source": [
    "As we can see, the accuracy for this classifier is much lower at just under 42%. While this is still slightly above chance (33%), it doesn't inspire much confidence that our classifier is actually picking up on partisanship instead of linguistic intricacies. To look into this issue further, we will test each of the new test data sets on the trained classifier, in order to see which ones are more accurate."
   ]
  },
  {
   "cell_type": "code",
   "execution_count": 58,
   "metadata": {},
   "outputs": [],
   "source": [
    "# create test data sets for each individual news source\n",
    "\n",
    "APTest = []\n",
    "for post in AP:\n",
    "    APTest.append((post[0], \"Center\"))\n",
    "    \n",
    "BloombergTest = []\n",
    "for post in Bloomberg:\n",
    "    BloombergTest.append((post[0], \"Center\"))\n",
    "    \n",
    "WonketteTest = []\n",
    "for post in Wonkette:\n",
    "    WonketteTest.append((post[0], \"Left-wing\"))\n",
    "    \n",
    "CNNTest = []\n",
    "for post in CNN:\n",
    "    CNNTest.append((post[0], \"Left-wing\"))\n",
    "    \n",
    "DailyCallerTest = []\n",
    "for post in DailyCaller:\n",
    "    DailyCallerTest.append((post[0], \"Right-wing\"))\n",
    "    \n",
    "WashTimesTest = []\n",
    "for post in WashTimes:\n",
    "    WashTimesTest.append((post[0], \"Right-wing\"))"
   ]
  },
  {
   "cell_type": "markdown",
   "metadata": {},
   "source": [
    "Below are each of the new data sets being run individually in the classifier. They are broken up in this way because each takes a while to run."
   ]
  },
  {
   "cell_type": "code",
   "execution_count": 59,
   "metadata": {},
   "outputs": [
    {
     "data": {
      "text/plain": [
       "0.3316582914572864"
      ]
     },
     "execution_count": 59,
     "metadata": {},
     "output_type": "execute_result"
    }
   ],
   "source": [
    "cl.accuracy(APTest)"
   ]
  },
  {
   "cell_type": "code",
   "execution_count": 60,
   "metadata": {},
   "outputs": [
    {
     "data": {
      "text/plain": [
       "0.32663316582914576"
      ]
     },
     "execution_count": 60,
     "metadata": {},
     "output_type": "execute_result"
    }
   ],
   "source": [
    "cl.accuracy(BloombergTest)"
   ]
  },
  {
   "cell_type": "code",
   "execution_count": 61,
   "metadata": {},
   "outputs": [
    {
     "data": {
      "text/plain": [
       "0.6180904522613065"
      ]
     },
     "execution_count": 61,
     "metadata": {},
     "output_type": "execute_result"
    }
   ],
   "source": [
    "cl.accuracy(WonketteTest)"
   ]
  },
  {
   "cell_type": "code",
   "execution_count": 62,
   "metadata": {},
   "outputs": [
    {
     "data": {
      "text/plain": [
       "0.41708542713567837"
      ]
     },
     "execution_count": 62,
     "metadata": {},
     "output_type": "execute_result"
    }
   ],
   "source": [
    "cl.accuracy(CNNTest)"
   ]
  },
  {
   "cell_type": "code",
   "execution_count": 63,
   "metadata": {},
   "outputs": [
    {
     "data": {
      "text/plain": [
       "0.5477386934673367"
      ]
     },
     "execution_count": 63,
     "metadata": {},
     "output_type": "execute_result"
    }
   ],
   "source": [
    "cl.accuracy(DailyCallerTest)"
   ]
  },
  {
   "cell_type": "code",
   "execution_count": 64,
   "metadata": {},
   "outputs": [
    {
     "data": {
      "text/plain": [
       "0.3869346733668342"
      ]
     },
     "execution_count": 64,
     "metadata": {},
     "output_type": "execute_result"
    }
   ],
   "source": [
    "cl.accuracy(WashTimesTest)"
   ]
  },
  {
   "cell_type": "markdown",
   "metadata": {},
   "source": [
    "These results are really interesting. The accuracy scores have a lot of variation, and it looks as though the two news pages for which our classifier could accurately predict partisanship were Wonkette and The Daily Caller. These two pages were chosen because they both are classified as hyper-partisan and as sharing misleading or false information according to the Ad Fontes media bias chart mentioned earlier. Overall, the classifier did a better job of accurately labeling left-wing news sources, suggesting that these pages have a more prominent linguistic style that is specific to them. None of these accuracy scores are very high  or inspire a lot of confindence (except for those for Wonkette and The Daily Caller), which could indicate that our classifier is using attributes such as post length and word frequency in order to make its predictions, instead of semantic partisanship."
   ]
  }
 ],
 "metadata": {
  "kernelspec": {
   "display_name": "Python 3",
   "language": "python",
   "name": "python3"
  },
  "language_info": {
   "codemirror_mode": {
    "name": "ipython",
    "version": 3
   },
   "file_extension": ".py",
   "mimetype": "text/x-python",
   "name": "python",
   "nbconvert_exporter": "python",
   "pygments_lexer": "ipython3",
   "version": "3.8.3"
  }
 },
 "nbformat": 4,
 "nbformat_minor": 4
}
